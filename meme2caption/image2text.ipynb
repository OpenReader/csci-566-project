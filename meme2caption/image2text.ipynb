{
 "cells": [
  {
   "cell_type": "markdown",
   "metadata": {},
   "source": [
    "# Load package and define the preprocess functions"
   ]
  },
  {
   "cell_type": "code",
   "execution_count": 17,
   "metadata": {},
   "outputs": [],
   "source": [
    "import cv2\n",
    "import numpy as np\n",
    "import pytesseract\n",
    "from pytesseract import Output\n",
    "import pandas as pd\n",
    "pytesseract.pytesseract.tesseract_cmd = r\"d:\\Program Files\\Tesseract-OCR\\tesseract.exe\"\n",
    "\n",
    "\n",
    "img = cv2.imread('image.jpg')\n",
    "\n",
    "# get grayscale image\n",
    "def get_grayscale(image):\n",
    "    return cv2.cvtColor(image, cv2.COLOR_BGR2GRAY)\n",
    "\n",
    "# noise removal\n",
    "def remove_noise(image):\n",
    "    return cv2.medianBlur(image,5)\n",
    " \n",
    "#thresholding\n",
    "def thresholding(image):\n",
    "    return cv2.threshold(image, 0, 255, cv2.THRESH_BINARY + cv2.THRESH_OTSU)[1]\n",
    "\n",
    "#dilation\n",
    "def dilate(image):\n",
    "    kernel = np.ones((5,5),np.uint8)\n",
    "    return cv2.dilate(image, kernel, iterations = 1)\n",
    "    \n",
    "#erosion\n",
    "def erode(image):\n",
    "    kernel = np.ones((5,5),np.uint8)\n",
    "    return cv2.erode(image, kernel, iterations = 1)\n",
    "\n",
    "#opening - erosion followed by dilation\n",
    "def opening(image):\n",
    "    kernel = np.ones((5,5),np.uint8)\n",
    "    return cv2.morphologyEx(image, cv2.MORPH_OPEN, kernel)\n",
    "\n",
    "#canny edge detection\n",
    "def canny(image):\n",
    "    return cv2.Canny(image, 100, 200)\n",
    "\n",
    "#skew correction\n",
    "def deskew(image):\n",
    "    coords = np.column_stack(np.where(image > 0))\n",
    "    angle = cv2.minAreaRect(coords)[-1]\n",
    "    if angle < -45:\n",
    "        angle = -(90 + angle)\n",
    "    else:\n",
    "        angle = -angle\n",
    "    (h, w) = image.shape[:2]\n",
    "    center = (w // 2, h // 2)\n",
    "    M = cv2.getRotationMatrix2D(center, angle, 1.0)\n",
    "    rotated = cv2.warpAffine(image, M, (w, h), flags=cv2.INTER_CUBIC, borderMode=cv2.BORDER_REPLICATE)\n",
    "    return rotated\n",
    "\n",
    "#template matching\n",
    "def match_template(image, template):\n",
    "    return cv2.matchTemplate(image, template, cv2.TM_CCOEFF_NORMED)\n",
    "\n",
    "##\n",
    "def meme_process(img):\n",
    "    if img is None:\n",
    "        return\n",
    "\n",
    "    for i in range(img.shape[0]):\n",
    "        for j in range(img.shape[1]):\n",
    "            if all([elem >= 250 for elem in img[i][j]]):\n",
    "                img[i][j] = (0, 0, 0)\n",
    "            else:\n",
    "                img[i][j] = (255, 255, 255)\n",
    "    return img\n",
    "\n",
    "def detect_text_range(img):\n",
    "    d = pytesseract.image_to_data(img, output_type=Output.DICT)\n",
    "    n_boxes = len(d['text'])\n",
    "    for i in range(n_boxes):\n",
    "        if int(d['conf'][i]) > 60:\n",
    "            (x, y, w, h) = (d['left'][i], d['top'][i], d['width'][i], d['height'][i])\n",
    "            img = cv2.rectangle(img, (x, y), (x + w, y + h), (0, 255, 0), 2)\n",
    "    cv2.imshow('img', img)\n",
    "    cv2.waitKey(0)\n",
    "    return(d)\n"
   ]
  },
  {
   "cell_type": "markdown",
   "metadata": {},
   "source": [
    "## Read meme and detect text"
   ]
  },
  {
   "cell_type": "code",
   "execution_count": 15,
   "metadata": {},
   "outputs": [
    {
     "data": {
      "text/plain": [
       "'INH\\nLT\\na. sk\\nMe\\nSes\\nMea se\\n\\x0c'"
      ]
     },
     "execution_count": 15,
     "metadata": {},
     "output_type": "execute_result"
    }
   ],
   "source": [
    "image = cv2.imread('img/4.jpg')\n",
    "detect_text_range(image)\n",
    "custom_config = r'-l eng --psm 6'\n",
    "print(pytesseract.image_to_string(image, config=custom_config))\n",
    "\n",
    "image = meme_process(image)\n",
    "d = detect_text_range(image)\n",
    "print(pytesseract.image_to_string(image, config=custom_config))"
   ]
  },
  {
   "cell_type": "markdown",
   "metadata": {},
   "source": [
    "# Preprocess"
   ]
  },
  {
   "cell_type": "code",
   "execution_count": 117,
   "metadata": {},
   "outputs": [
    {
     "data": {
      "text/plain": [
       "True"
      ]
     },
     "execution_count": 117,
     "metadata": {},
     "output_type": "execute_result"
    }
   ],
   "source": [
    "cap = df['caption'][36]\n",
    "img_id = df['img_id'][36]\n",
    "image = cv2.imread('memes/'+str(img_id)+'.jpg')\n",
    "image == None"
   ]
  },
  {
   "cell_type": "code",
   "execution_count": 138,
   "metadata": {},
   "outputs": [
    {
     "name": "stdout",
     "output_type": "stream",
     "text": [
      "['i', 'bet', 'you', 'cant', 'press', 'ctrl', 'and', 'like', 'this', 'meme'] Caption from website\n",
      "['i', 'bet', 'you', 'cant', 'press', 'ctrl', 'and', 'like', 'this', 'meme'] Extraction result\n",
      "['i', 'dont', 'always', 'make', 'a', 'meme', 'but', 'when', 'i', 'do', 'i', 'immediately', 'press', 'th'] Caption from website\n",
      "['i', 'dont', 'always', 'make', 'a', 'meme', 'but', 'when', 'ido', 'immediately', 'press', 'the', 'up', 'arrow'] Extraction result\n",
      "['if', 'you', 'are', 'what', 'you', 'eat', 'then', 'arent', 'cannibals', 'the', 'only', 'real', 'humans'] Caption from website\n",
      "['if', 'you', 'are', 'what', 'you', 'eat', 'then', \"aren't\", 'cannibals', 'the', 'only', 'real', 'humans'] Extraction result\n",
      "['if', 'bars', 'cant', 'serve', 'drunk', 'people', 'mcdonalds', 'shouldnt', 'be', 'able', 'to', 'serve', 'fat', 'people'] Caption from website\n",
      "['if', 'bars', \"can't\", 'serve', 'drunk', 'people', \"mcdonald's\", \"shouldn't\", 'be', 'able', 'to', 'serve', 'fat', 'people'] Extraction result\n",
      "['you', 'get', 'b', 'on', 'blood', 'test', 'failure', 'run', 'through', 'veins'] Caption from website\n",
      "['you', 'get', 'b+', 'on', 'blood', 'test', 'failure', 'run', 'through', 'veins'] Extraction result\n",
      "['what', 'if', 'oxygen', 'is', 'poisonous', 'and', 'takes', '80', 'years', 'to', 'kill', 'us'] Caption from website\n",
      "['what', 'if', 'oxygen', 'is', 'poisonous', 'and', 'takes', '80', 'years', 'to', 'kill', 'sus'] Extraction result\n",
      "['did', 'you', 'hear', 'that', 'apple', 'guy', 'died', 'rip', 'isaac', 'newton'] Caption from website\n",
      "['did', 'you', 'hear', 'that', 'apple', 'guy', 'diedpp', 'rlp', 'isaac', 'newton'] Extraction result\n",
      "['winter', 'is', 'here', 'youre', 'fired'] Caption from website\n",
      "[\"you're\", 'fired'] Extraction result\n",
      "['if', 'all', 'men', 'are', 'the', 'same', 'why', 'does', 'it', 'take', 'a', 'woman', 'so', 'long', 'to', 'choose'] Caption from website\n",
      "['if', 'all', 'men', 'are', 'the', 'same', 'why', 'does', 'it', 'take', 'a', 'woman', 'so', 'long', 'to', 'chooses'] Extraction result\n",
      "['sees', 'you', 'parked', 'in', 'handicapped', 'spot', 'breaks', 'your', 'legs', 'so', 'you', 'dont', 'get', 'in', 'trouble'] Caption from website\n",
      "['sees', 'you', 'parked', 'in', 'handicapped', 'spot', 'breaks', 'your', 'legs', 'so', 'you', 'dont', 'get', 'in', 'trouble'] Extraction result\n",
      "['i', 'dont', 'always', 'generate', 'a', 'meme', 'but', 'when', 'i', 'do', 'i', 'generate', 'them', 'tw'] Caption from website\n",
      "['i', \"don't\", 'always', 'generate', 'a', 'meme', 'but', 'when', 'i', 'do,', 'generate', 'them', 'twice'] Extraction result\n",
      "['if', 'all', 'the', 'countries', 'in', 'the', 'world', 'are', 'in', 'debt', 'where', 'did', 'all', 'the', 'money', 'go'] Caption from website\n",
      "['if', 'all', 'the', 'countries', 'in', 'the', 'world', 'are', 'in', 'debt', 'where', 'did', 'all', 'the', 'money', 'g02'] Extraction result\n",
      "['i', 'dont', 'always', 'generate', 'a', 'meme', 'but', 'when', 'i', 'do', 'i', 'generate', 'them', 'tw'] Caption from website\n",
      "['i', \"don't\", 'always', 'generate', 'a', 'meme', 'but', 'when', 'i', 'do,', 'generate', 'them', 'twice'] Extraction result\n",
      "['microwaving', 'at', 'midnight', 'when', 'everyone', 'is', 'asleep', 'opens', 'it', 'with', 'one', 'second', 'left', 'so', 'it', 'do'] Caption from website\n",
      "['microwaving', 'at', 'midnight', 'when', 'everyone', 'is', 'asleep', 'opens', 'it', 'with', 'one', 'second', 'left', 'so', 'it', \"doesn't\", 'beep'] Extraction result\n",
      "['does', 'a', 'gif', 'keep', 'moving', 'when', 'you', 'scroll', 'it', 'off', 'the', 'screen'] Caption from website\n",
      "['does', 'a', 'gif', 'keep', 'mowing', 'when', 'you', 'scroll', 'it', 'off', 'the', 'screen'] Extraction result\n",
      "['im', 'gonna', 'spend', 'valentines', 'day', 'with', 'my', 'ex', 'box', '360'] Caption from website\n",
      "[\"i'm\", 'gonna', 'spend', \"valentine's\", 'day', 'with', 'my', 'ex', 'bok', '360'] Extraction result\n",
      "['has', '4950', 'achievements', 'missing', 'co', 'op', 'one'] Caption from website\n",
      "['has', '49/50', 'achievements', 'missing', 'co-op', 'one'] Extraction result\n",
      "['my', 'girlfriend', 'is', 'like', 'my', 'ferrari', 'i', 'dont', 'have', 'one'] Caption from website\n",
      "['my', 'girlfriend', 'is', 'like', 'my', 'ferrari', \"don't\", 'have', 'one'] Extraction result\n",
      "['creates', 'meme', 'doesnt', 'upvote', 'his', 'own', 'meme'] Caption from website\n",
      "['creates', 'meme', \"doesn't\", 'upvote', 'his', 'own', 'meme'] Extraction result\n",
      "['at', 'his', 'own', 'house', 'sure', 'ill', 'be', 'player', 'two'] Caption from website\n",
      "['at', 'his', 'own', 'house', '“sure', \"i'll\", 'be', 'player', 'two\"'] Extraction result\n",
      "50.0\n"
     ]
    }
   ],
   "source": [
    "df = pd.read_csv(\"data.csv\")\n",
    "custom_config = r'-l eng --psm 1 -c tessedit_char_blacklist=1?|><.'\n",
    "arr = 0 \n",
    "total = 0 \n",
    "arr2 = 0\n",
    "reses = []\n",
    "df2=pd.DataFrame(columns=['Caption from web','Exraction by OCR'])\n",
    "for i in range(20):\n",
    "\n",
    "    cap = df['caption'][i]\n",
    "    img_id = df['img_id'][i]\n",
    "    image = cv2.imread('memes/'+str(img_id)+'.jpg')\n",
    "    if image is None:\n",
    "        continue\n",
    "    result1 = pytesseract.image_to_string(image, config=custom_config)\n",
    "    image_new = meme_process(image)\n",
    "    result2 = pytesseract.image_to_string(image_new, config=custom_config)\n",
    "    words_real = cap.split()\n",
    "    words1 = result1.split()\n",
    "    words2 = result2.split()\n",
    "    test_list1 = [x.lower() for x in words2]\n",
    "\n",
    "    res = len(set(test_list1) & set(words_real)) / float(len(set(test_list1) | set(words_real))) * 100\n",
    "    print( words_real,'Caption from website')\n",
    "    print(test_list1,'Extraction result')\n",
    "    reses.append(res)\n",
    "    df2 = df2.append({'Caption from web':  words_real, 'Exraction by OCR': test_list1},\n",
    "              ignore_index=True)\n",
    "print(np.mean(res))"
   ]
  },
  {
   "cell_type": "code",
   "execution_count": 139,
   "metadata": {},
   "outputs": [
    {
     "data": {
      "text/html": [
       "<div>\n",
       "<style scoped>\n",
       "    .dataframe tbody tr th:only-of-type {\n",
       "        vertical-align: middle;\n",
       "    }\n",
       "\n",
       "    .dataframe tbody tr th {\n",
       "        vertical-align: top;\n",
       "    }\n",
       "\n",
       "    .dataframe thead th {\n",
       "        text-align: right;\n",
       "    }\n",
       "</style>\n",
       "<table border=\"1\" class=\"dataframe\">\n",
       "  <thead>\n",
       "    <tr style=\"text-align: right;\">\n",
       "      <th></th>\n",
       "      <th>Caption from web</th>\n",
       "      <th>Exraction by OCR</th>\n",
       "    </tr>\n",
       "  </thead>\n",
       "  <tbody>\n",
       "    <tr>\n",
       "      <th>0</th>\n",
       "      <td>[i, bet, you, cant, press, ctrl, and, like, th...</td>\n",
       "      <td>[i, bet, you, cant, press, ctrl, and, like, th...</td>\n",
       "    </tr>\n",
       "    <tr>\n",
       "      <th>1</th>\n",
       "      <td>[i, dont, always, make, a, meme, but, when, i,...</td>\n",
       "      <td>[i, dont, always, make, a, meme, but, when, id...</td>\n",
       "    </tr>\n",
       "    <tr>\n",
       "      <th>2</th>\n",
       "      <td>[if, you, are, what, you, eat, then, arent, ca...</td>\n",
       "      <td>[if, you, are, what, you, eat, then, aren't, c...</td>\n",
       "    </tr>\n",
       "    <tr>\n",
       "      <th>3</th>\n",
       "      <td>[if, bars, cant, serve, drunk, people, mcdonal...</td>\n",
       "      <td>[if, bars, can't, serve, drunk, people, mcdona...</td>\n",
       "    </tr>\n",
       "    <tr>\n",
       "      <th>4</th>\n",
       "      <td>[you, get, b, on, blood, test, failure, run, t...</td>\n",
       "      <td>[you, get, b+, on, blood, test, failure, run, ...</td>\n",
       "    </tr>\n",
       "  </tbody>\n",
       "</table>\n",
       "</div>"
      ],
      "text/plain": [
       "                                    Caption from web  \\\n",
       "0  [i, bet, you, cant, press, ctrl, and, like, th...   \n",
       "1  [i, dont, always, make, a, meme, but, when, i,...   \n",
       "2  [if, you, are, what, you, eat, then, arent, ca...   \n",
       "3  [if, bars, cant, serve, drunk, people, mcdonal...   \n",
       "4  [you, get, b, on, blood, test, failure, run, t...   \n",
       "\n",
       "                                    Exraction by OCR  \n",
       "0  [i, bet, you, cant, press, ctrl, and, like, th...  \n",
       "1  [i, dont, always, make, a, meme, but, when, id...  \n",
       "2  [if, you, are, what, you, eat, then, aren't, c...  \n",
       "3  [if, bars, can't, serve, drunk, people, mcdona...  \n",
       "4  [you, get, b+, on, blood, test, failure, run, ...  "
      ]
     },
     "execution_count": 139,
     "metadata": {},
     "output_type": "execute_result"
    }
   ],
   "source": [
    "df2.head()"
   ]
  }
 ],
 "metadata": {
  "kernelspec": {
   "display_name": "Python 3",
   "language": "python",
   "name": "python3"
  },
  "language_info": {
   "codemirror_mode": {
    "name": "ipython",
    "version": 3
   },
   "file_extension": ".py",
   "mimetype": "text/x-python",
   "name": "python",
   "nbconvert_exporter": "python",
   "pygments_lexer": "ipython3",
   "version": "3.6.11"
  }
 },
 "nbformat": 4,
 "nbformat_minor": 4
}
