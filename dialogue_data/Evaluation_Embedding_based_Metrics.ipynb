{
  "nbformat": 4,
  "nbformat_minor": 0,
  "metadata": {
    "colab": {
      "name": "Evaluation Embedding-based Metrics.ipynb",
      "provenance": []
    },
    "kernelspec": {
      "name": "python3",
      "display_name": "Python 3"
    }
  },
  "cells": [
    {
      "cell_type": "code",
      "metadata": {
        "id": "VoSSnFrC17Tu"
      },
      "source": [
        "from __future__ import absolute_import, division, print_function, unicode_literals\n",
        "\n",
        "import sys\n",
        "\n",
        "import os\n",
        "import numpy as np\n",
        "import matplotlib.pyplot as plt\n",
        "from nltk.tokenize import sent_tokenize, word_tokenize \n",
        "import warnings"
      ],
      "execution_count": 1,
      "outputs": []
    },
    {
      "cell_type": "code",
      "metadata": {
        "id": "BJL0EN-o4TlZ",
        "outputId": "838b3601-9883-47a1-dc8d-affe2a2d71b8",
        "colab": {
          "base_uri": "https://localhost:8080/"
        }
      },
      "source": [
        "from google.colab import drive\n",
        "drive.mount('/content/drive')"
      ],
      "execution_count": 2,
      "outputs": [
        {
          "output_type": "stream",
          "text": [
            "Mounted at /content/drive\n"
          ],
          "name": "stdout"
        }
      ]
    },
    {
      "cell_type": "code",
      "metadata": {
        "id": "Mw9Ucw1C4gH2",
        "outputId": "4ab81b9a-bc3d-4c5b-fdf4-799ceca521bb",
        "colab": {
          "base_uri": "https://localhost:8080/"
        }
      },
      "source": [
        "from itertools import islice\n",
        "\n",
        "data = {'Y': [], 'predict': []}\n",
        "with open('drive/My Drive/xsy_test_result.txt', 'r') as infile:\n",
        "  line_num = 0\n",
        "  for line in infile:\n",
        "    line = line.strip('\\n ')\n",
        "    if line_num % 3 == 0:\n",
        "      data['Y'].append(line)\n",
        "    elif line_num % 3 == 1:\n",
        "      data['predict'].append(line)\n",
        "    line_num += 1\n",
        "\n",
        "print(data['Y'][999])\n",
        "print(data['predict'][999])"
      ],
      "execution_count": 86,
      "outputs": [
        {
          "output_type": "stream",
          "text": [
            "so far only their scouts . but we have had reports of a small impi farther north over there .\n",
            "i m not sure .\n"
          ],
          "name": "stdout"
        }
      ]
    },
    {
      "cell_type": "code",
      "metadata": {
        "id": "kH5YgjHx_wGx"
      },
      "source": [
        "from nltk.tokenize import sent_tokenize, word_tokenize \n",
        "import warnings \n",
        "  \n",
        "warnings.filterwarnings(action = 'ignore') \n",
        "  \n",
        "import gensim \n",
        "from gensim.models import Word2Vec\n",
        "import gensim.downloader"
      ],
      "execution_count": 4,
      "outputs": []
    },
    {
      "cell_type": "code",
      "metadata": {
        "id": "yvuGYKxoACM-",
        "outputId": "a3a0b86d-5e17-4be1-cba9-cebf70fed66a",
        "colab": {
          "base_uri": "https://localhost:8080/"
        }
      },
      "source": [
        "glove_vectors = gensim.downloader.load('glove-twitter-25')"
      ],
      "execution_count": 5,
      "outputs": [
        {
          "output_type": "stream",
          "text": [
            "[==================================================] 100.0% 104.8/104.8MB downloaded\n"
          ],
          "name": "stdout"
        }
      ]
    },
    {
      "cell_type": "code",
      "metadata": {
        "id": "4OKOQa2FnXmU"
      },
      "source": [
        "# evaluation matirc\n",
        "def greedy_matching(s1, s2):\n",
        "  score = 0\n",
        "  simi_sum = 0\n",
        "  for w in s1:\n",
        "    max_simi = max([glove_vectors.similarity(w, wi) for wi in s2])\n",
        "    simi_sum += max_simi\n",
        "  score += (simi_sum / len(s1))\n",
        "  simi_sum = 0\n",
        "  for w in s2:\n",
        "    max_simi = max([glove_vectors.similarity(w, wi) for wi in s1])\n",
        "    simi_sum += max_simi\n",
        "  score += (simi_sum / len(s2))\n",
        "  return score / 2\n",
        "\n",
        "def embedding_average(s1, s2):\n",
        "  e1_avg = np.average([glove_vectors[w] for w in s1], axis=0)\n",
        "  e2_avg = np.average([glove_vectors[w] for w in s2], axis=0)\n",
        "  score = glove_vectors.cosine_similarities(e1_avg, [e2_avg])\n",
        "  return score[0]\n",
        "\n",
        "def vector_extrema(s1, s2):\n",
        "  def absmax(a):\n",
        "    a_min = np.min(a, axis=0)\n",
        "    a_max = np.max(a, axis=0)\n",
        "    a_absmax = [max(a_min[i], a_max[i], key=abs) for i in range(len(a_min))]\n",
        "    return a_absmax\n",
        "  e1 = [glove_vectors[w] for w in s1]\n",
        "  e2 = [glove_vectors[w] for w in s2]\n",
        "  score = glove_vectors.cosine_similarities(absmax(e1), [absmax(e2)])\n",
        "  return score[0]"
      ],
      "execution_count": 76,
      "outputs": []
    },
    {
      "cell_type": "code",
      "metadata": {
        "id": "rzjACi12zzHQ"
      },
      "source": [
        "data['Y'] = [s.split(' ') for s in data['Y']]\n",
        "data['predict'] = [s.split(' ') for s in data['predict']]\n",
        "\n",
        "clean_Y = [[w for w in w_arr if w in glove_vectors] for w_arr in data['Y']]\n",
        "clean_predict = [[w for w in w_arr if w in glove_vectors] for w_arr in data['predict']]"
      ],
      "execution_count": 87,
      "outputs": []
    },
    {
      "cell_type": "code",
      "metadata": {
        "id": "FhbQD8JR1xhF",
        "outputId": "e0fd6636-0bd2-43bb-a3a9-a661ea188034",
        "colab": {
          "base_uri": "https://localhost:8080/"
        }
      },
      "source": [
        "print(greedy_matching(data['Y'][11], data['predict'][11]))\n",
        "print(embedding_average(data['Y'][11], data['predict'][11]))\n",
        "print(vector_extrema(data['Y'][11], data['predict'][11]))"
      ],
      "execution_count": 78,
      "outputs": [
        {
          "output_type": "stream",
          "text": [
            "0.9099748566364632\n",
            "0.9541596\n",
            "0.7761334\n"
          ],
          "name": "stdout"
        }
      ]
    },
    {
      "cell_type": "code",
      "metadata": {
        "id": "mxzkrTC_2d-Y"
      },
      "source": [
        "g_m = 0\n",
        "e_a = 0\n",
        "v_e = 0\n",
        "all = 0\n",
        "for y, p in zip(clean_Y, clean_predict):\n",
        "  if len(y) != 0 and len(p) != 0:\n",
        "    g_m += greedy_matching(y, p)\n",
        "    e_a += embedding_average(y, p)\n",
        "    v_e += vector_extrema(y, p)\n",
        "    all += 1\n",
        "g_m /= all\n",
        "e_a /= all\n",
        "v_e /= all"
      ],
      "execution_count": 88,
      "outputs": []
    },
    {
      "cell_type": "code",
      "metadata": {
        "id": "psVhbTMz3tNH",
        "outputId": "ad33f90b-cf7e-4c2a-c298-de9c72823519",
        "colab": {
          "base_uri": "https://localhost:8080/"
        }
      },
      "source": [
        "print(\"Transformer:\")\n",
        "print(g_m)\n",
        "print(e_a)\n",
        "print(v_e)\n",
        "print(all)"
      ],
      "execution_count": 82,
      "outputs": [
        {
          "output_type": "stream",
          "text": [
            "Transformer:\n",
            "0.8701796827196008\n",
            "0.922560159541502\n",
            "0.7281755257068748\n",
            "996\n"
          ],
          "name": "stdout"
        }
      ]
    },
    {
      "cell_type": "code",
      "metadata": {
        "id": "RGvnagAk-S71",
        "outputId": "4e8a9cb4-50be-403a-fc08-0f30d30d5578",
        "colab": {
          "base_uri": "https://localhost:8080/"
        }
      },
      "source": [
        "print(\"seq2seq:\")\n",
        "print(g_m)\n",
        "print(e_a)\n",
        "print(v_e)\n",
        "print(all)"
      ],
      "execution_count": 89,
      "outputs": [
        {
          "output_type": "stream",
          "text": [
            "seq2seq:\n",
            "0.8706608828072472\n",
            "0.9288320587873459\n",
            "0.7190872244089842\n",
            "1000\n"
          ],
          "name": "stdout"
        }
      ]
    },
    {
      "cell_type": "markdown",
      "metadata": {
        "id": "IufWwug0IH37"
      },
      "source": [
        "Codes below are useless, just for test."
      ]
    },
    {
      "cell_type": "code",
      "metadata": {
        "id": "L3OjmHlqopTF",
        "outputId": "7164d880-422a-489e-93ef-02c12e5c163f",
        "colab": {
          "base_uri": "https://localhost:8080/"
        }
      },
      "source": [
        "glove_vectors.similarity('guy', 'man')"
      ],
      "execution_count": 8,
      "outputs": [
        {
          "output_type": "execute_result",
          "data": {
            "text/plain": [
              "0.8295315"
            ]
          },
          "metadata": {
            "tags": []
          },
          "execution_count": 8
        }
      ]
    },
    {
      "cell_type": "code",
      "metadata": {
        "id": "3UHRQdnjrle1",
        "outputId": "149e2c5a-483c-482f-a683-3a81dd938086",
        "colab": {
          "base_uri": "https://localhost:8080/"
        }
      },
      "source": [
        "np.shape(glove_vectors['computer'])"
      ],
      "execution_count": 20,
      "outputs": [
        {
          "output_type": "execute_result",
          "data": {
            "text/plain": [
              "(25,)"
            ]
          },
          "metadata": {
            "tags": []
          },
          "execution_count": 20
        }
      ]
    },
    {
      "cell_type": "code",
      "metadata": {
        "id": "Jgmg6rBgsbqI",
        "outputId": "691b639a-9d1b-4d6f-86a0-d260e3609a48",
        "colab": {
          "base_uri": "https://localhost:8080/"
        }
      },
      "source": [
        "import numpy as np\n",
        "a = [[1,2],[3,4],[5,6]]\n",
        "np.average(a, axis=0)"
      ],
      "execution_count": 15,
      "outputs": [
        {
          "output_type": "execute_result",
          "data": {
            "text/plain": [
              "array([3., 4.])"
            ]
          },
          "metadata": {
            "tags": []
          },
          "execution_count": 15
        }
      ]
    },
    {
      "cell_type": "code",
      "metadata": {
        "id": "XffOzdtat8LI",
        "outputId": "2a717006-24c7-4be2-86cc-aacc282149db",
        "colab": {
          "base_uri": "https://localhost:8080/"
        }
      },
      "source": [
        "te1 = glove_vectors['man']\n",
        "te2 = glove_vectors['guy']\n",
        "s = glove_vectors.cosine_similarities(te1, [te2])\n",
        "s[0]"
      ],
      "execution_count": 23,
      "outputs": [
        {
          "output_type": "execute_result",
          "data": {
            "text/plain": [
              "0.8295315"
            ]
          },
          "metadata": {
            "tags": []
          },
          "execution_count": 23
        }
      ]
    },
    {
      "cell_type": "code",
      "metadata": {
        "id": "C_7Kgs2fvkoK",
        "outputId": "f349480c-b680-4cde-cbe6-f17be7d66d36",
        "colab": {
          "base_uri": "https://localhost:8080/"
        }
      },
      "source": [
        "a = [[1, 2, 5], [4, -5, 2]]\n",
        "a_min = np.min(a, axis=0)\n",
        "a_max = np.max(a, axis=0)\n",
        "absmax = [max(a_min[i], a_max[i], key=abs) for i in range(len(a_min))]\n",
        "print(absmax)"
      ],
      "execution_count": 39,
      "outputs": [
        {
          "output_type": "stream",
          "text": [
            "[4, -5, 5]\n"
          ],
          "name": "stdout"
        }
      ]
    },
    {
      "cell_type": "code",
      "metadata": {
        "id": "jxKGO0wc010H",
        "outputId": "72068180-adb0-4cff-aab4-f43b69f69091",
        "colab": {
          "base_uri": "https://localhost:8080/"
        }
      },
      "source": [
        "print(data['Y'][11])\n",
        "print(data['predict'][11])"
      ],
      "execution_count": 57,
      "outputs": [
        {
          "output_type": "stream",
          "text": [
            "['i', 'dont', 'want', 'to', 'take', 'em', 'out', 'just', 'want', 'to', 'keep', 'em', 'interested']\n",
            "['i', 'dont', 'know', 'what', 'you', 'mean']\n"
          ],
          "name": "stdout"
        }
      ]
    },
    {
      "cell_type": "code",
      "metadata": {
        "id": "JrNC3_7O1apv",
        "outputId": "9737b510-92f2-49ee-a201-5509ea9c2cbe",
        "colab": {
          "base_uri": "https://localhost:8080/",
          "height": 35
        }
      },
      "source": [
        "a = \" asd fdf df\\n \"\n",
        "a.strip('\\n ')"
      ],
      "execution_count": 52,
      "outputs": [
        {
          "output_type": "execute_result",
          "data": {
            "application/vnd.google.colaboratory.intrinsic+json": {
              "type": "string"
            },
            "text/plain": [
              "'asd fdf df'"
            ]
          },
          "metadata": {
            "tags": []
          },
          "execution_count": 52
        }
      ]
    },
    {
      "cell_type": "code",
      "metadata": {
        "id": "i8h_374p4aBz",
        "outputId": "615f874a-1397-4b9c-b886-ef13ae2ea6ef",
        "colab": {
          "base_uri": "https://localhost:8080/"
        }
      },
      "source": [
        "if '' in glove_vectors:\n",
        "  print('yes')\n",
        "else:\n",
        "  print('no')"
      ],
      "execution_count": 85,
      "outputs": [
        {
          "output_type": "stream",
          "text": [
            "yes\n"
          ],
          "name": "stdout"
        }
      ]
    },
    {
      "cell_type": "code",
      "metadata": {
        "id": "yXQw6W2S9Ht9"
      },
      "source": [
        "import re\n",
        "\n",
        "def normalizeString(s):\n",
        "    s = s.lower()\n",
        "    s = re.sub(r\"([.!?])\", r\" \\1\", s)\n",
        "    s = re.sub(r\"[^a-zA-Z.!?]+\", r\" \", s)\n",
        "    return s\n",
        "\n"
      ],
      "execution_count": null,
      "outputs": []
    }
  ]
}